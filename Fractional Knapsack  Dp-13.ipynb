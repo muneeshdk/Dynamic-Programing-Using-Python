{
 "cells": [
  {
   "cell_type": "code",
   "execution_count": 2,
   "metadata": {},
   "outputs": [
    {
     "name": "stdout",
     "output_type": "stream",
     "text": [
      "240\n"
     ]
    }
   ],
   "source": [
    "import math\n",
    "val=[60,40,100,120]\n",
    "wt=[10,40,20,30]\n",
    "capacity=50\n",
    "def knapSackUn(val,wt,capacity):\n",
    "    index=list(range(len(val)))\n",
    "    #Calculating the profit by weight ratio\n",
    "    ratio=[v/w for v,w in zip(val,wt)]\n",
    "    max_val=0\n",
    "    # Sorting the index according to profit/weigth ratio\n",
    "    index.sort(key=lambda i:ratio[i],reverse=True)\n",
    "    fractions=[0]*len(val)\n",
    "    #traversing through all the index of val\n",
    "    \n",
    "    for i in index:\n",
    "        #if weigth is lessthan capacity\n",
    "        if wt[i]<=capacity:\n",
    "            max_val+=val[i]\n",
    "            capacity-=wt[i]\n",
    "        else:\n",
    "            fractions[i]=capacity/wt[i]\n",
    "            max_val+=val[i]*(capacity/wt[i])\n",
    "            break\n",
    "    return max_val\n",
    "print(int(knapSackUn(val,wt,capacity)))"
   ]
  },
  {
   "cell_type": "code",
   "execution_count": null,
   "metadata": {},
   "outputs": [],
   "source": []
  }
 ],
 "metadata": {
  "kernelspec": {
   "display_name": "Python 3",
   "language": "python",
   "name": "python3"
  },
  "language_info": {
   "codemirror_mode": {
    "name": "ipython",
    "version": 3
   },
   "file_extension": ".py",
   "mimetype": "text/x-python",
   "name": "python",
   "nbconvert_exporter": "python",
   "pygments_lexer": "ipython3",
   "version": "3.7.6"
  }
 },
 "nbformat": 4,
 "nbformat_minor": 4
}
