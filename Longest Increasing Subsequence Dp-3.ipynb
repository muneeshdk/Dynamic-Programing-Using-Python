{
 "cells": [
  {
   "cell_type": "code",
   "execution_count": 9,
   "metadata": {},
   "outputs": [
    {
     "name": "stdout",
     "output_type": "stream",
     "text": [
      "3\n"
     ]
    }
   ],
   "source": [
    "'''Longest increasing subsequence \n",
    "For Example arr=[10,22,9,33,21,50,41,60,80]\n",
    "then output 5 that is arr[=10,22,33,50,60,80]\n",
    "\n",
    "We first create a table that is lis with the same length array\n",
    "And value with 1'''\n",
    "\n",
    "def LIS(arr,n):\n",
    "    lis=[1]*n\n",
    "    \n",
    "    for i in range(n):\n",
    "        for j in range(i):\n",
    "            if arr[i]>arr[j] and lis[i]<lis[j]+1:\n",
    "                lis[i]=lis[j]+1\n",
    "    max=0\n",
    "    for i in range(n):\n",
    "        if max<lis[i]:\n",
    "            max=lis[i]\n",
    "    return max\n",
    "arr=[3,10,2,1,20]\n",
    "n=len(arr)\n",
    "print(LIS(arr,n))"
   ]
  },
  {
   "cell_type": "code",
   "execution_count": null,
   "metadata": {},
   "outputs": [],
   "source": []
  }
 ],
 "metadata": {
  "kernelspec": {
   "display_name": "Python 3",
   "language": "python",
   "name": "python3"
  },
  "language_info": {
   "codemirror_mode": {
    "name": "ipython",
    "version": 3
   },
   "file_extension": ".py",
   "mimetype": "text/x-python",
   "name": "python",
   "nbconvert_exporter": "python",
   "pygments_lexer": "ipython3",
   "version": "3.7.6"
  }
 },
 "nbformat": 4,
 "nbformat_minor": 4
}
