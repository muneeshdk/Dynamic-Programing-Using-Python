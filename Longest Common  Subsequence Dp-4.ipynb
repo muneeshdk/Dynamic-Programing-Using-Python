{
 "cells": [
  {
   "cell_type": "code",
   "execution_count": 35,
   "metadata": {},
   "outputs": [
    {
     "name": "stdout",
     "output_type": "stream",
     "text": [
      "4\n"
     ]
    }
   ],
   "source": [
    "#Longest Common subsequence\n",
    "'''lcs of 'ABCDGH' and 'AEDFHR' is 'ADH' that is of length 3\n",
    "\n",
    "\n",
    "'''\n",
    "def LCS(X,Y,m,n):\n",
    "    #l=[[None] *(n+1) for i in range(m+1)]\n",
    "    #Creating the empty table\n",
    "    l=[[None]*(n+1)]*(m+1)\n",
    "    for i in range(m+1):\n",
    "        for j in range(n+1):\n",
    "            #if any of string is having no letters then subsequence is 0\n",
    "            if i==0 or j==0:\n",
    "                l[i][j]=0\n",
    "            #if the last characters are matched\n",
    "            elif X[i-1]==Y[j-1]:\n",
    "                l[i][j]=1+l[i-1][j-1]\n",
    "            else:\n",
    "                l[i][j]=max(l[i-1][j],l[i][j-1])\n",
    "    return l[-1][-1]\n",
    "str1='aggtab'\n",
    "str2='gxtxayb'\n",
    "m=len(str1)\n",
    "n=len(str2)\n",
    "print(LCS(str1,str2,m,n))\n"
   ]
  },
  {
   "cell_type": "code",
   "execution_count": null,
   "metadata": {},
   "outputs": [],
   "source": []
  }
 ],
 "metadata": {
  "kernelspec": {
   "display_name": "Python 3",
   "language": "python",
   "name": "python3"
  },
  "language_info": {
   "codemirror_mode": {
    "name": "ipython",
    "version": 3
   },
   "file_extension": ".py",
   "mimetype": "text/x-python",
   "name": "python",
   "nbconvert_exporter": "python",
   "pygments_lexer": "ipython3",
   "version": "3.7.6"
  }
 },
 "nbformat": 4,
 "nbformat_minor": 4
}
